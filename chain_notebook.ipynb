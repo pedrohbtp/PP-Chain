{
 "cells": [
  {
   "cell_type": "markdown",
   "metadata": {},
   "source": [
    "# Notebook about block Chain"
   ]
  },
  {
   "cell_type": "markdown",
   "metadata": {},
   "source": [
    "## This notebook contains information how to implement blockchain arquitectures"
   ]
  },
  {
   "cell_type": "markdown",
   "metadata": {},
   "source": [
    "### Implementing the class"
   ]
  },
  {
   "cell_type": "code",
   "execution_count": 49,
   "metadata": {
    "collapsed": false
   },
   "outputs": [],
   "source": [
    "import hashlib\n",
    "import time\n",
    "class Block():\n",
    "    # Data of the block\n",
    "    data = None\n",
    "    # Timestamp of creation of the block\n",
    "    timestamp = None\n",
    "    # Hash of the block\n",
    "    hash_value = None\n",
    "    # Previous block hash\n",
    "    previous_block_hash = None\n",
    "    # value to implement the hash\n",
    "    nonce = 0\n",
    "    \n",
    "    def __init__(self, data,difficulty, previous_block_hash=None):\n",
    "        # initializes the block\n",
    "        self.timestamp = time.time()\n",
    "        self.data = data\n",
    "        self.previous_block_hash = previous_block_hash\n",
    "        self.mine_block(difficulty)\n",
    "        \n",
    "    def calculate_hash(self):\n",
    "        unhashed_value = str(self.data) + str(self.timestamp) + str(self.previous_block_hash) + str(self.nonce)\n",
    "        a = hashlib.sha256()\n",
    "        a.update(unhashed_value.encode('utf-8'))\n",
    "        return a.hexdigest()\n",
    "    \n",
    "    def print_block(self):\n",
    "        print(self.__dict__)\n",
    "    \n",
    "    def mine_block(self, difficulty):\n",
    "        self.hash_value = self.calculate_hash()\n",
    "        while self.hash_value[0:difficulty] != difficulty*'0':\n",
    "            self.nonce = self.nonce + 1\n",
    "            self.hash_value = self.calculate_hash()\n",
    "        return self.hash_value\n",
    "            \n",
    "    \n",
    "class BlockChain():\n",
    "    \n",
    "    chain = []\n",
    "    difficulty = 3\n",
    "    \n",
    "    def __init__(self, data):\n",
    "        block = Block(data = data,difficulty = self.difficulty)\n",
    "        self.chain.append(block)\n",
    "    \n",
    "    def add_new_block(self, data):\n",
    "        previous_block_hash = self.chain[-1].hash_value if len(self.chain)>0 else None\n",
    "        block = Block(data, self.difficulty, previous_block_hash)\n",
    "        self.chain.append(block)\n",
    "          \n",
    "    def get_last_block(self):\n",
    "        return self.chain[-1] if len(self.chain) > 0 else None\n",
    "    \n",
    "    def get_block(self, index):\n",
    "        return self.chain[index] if len(self.chain) > index and len(self.chain) > 0 else None\n",
    "    \n",
    "    def get_length(self):\n",
    "        return len(self.chain)\n",
    "    \n",
    "    def print_all_blocks(self):\n",
    "        for block in self.chain:\n",
    "            print(block.__dict__)\n",
    "            print('\\n')\n",
    "    \n",
    "    def is_chain_valid(self):\n",
    "        for i in range(self.get_length()):\n",
    "            if i > 0 and self.chain[i].previous_block_hash != self.chain[i-1].hash_value:\n",
    "                # Check if all the blocks that are not the first one have valid previous hashes\n",
    "                return False\n",
    "            if self.chain[i].calculate_hash() != self.chain[i].hash_value:\n",
    "                # Checks if any data was changed comparing the hash\n",
    "                return False\n",
    "        return True\n",
    "    \n",
    "        "
   ]
  },
  {
   "cell_type": "code",
   "execution_count": 50,
   "metadata": {
    "collapsed": false
   },
   "outputs": [
    {
     "name": "stdout",
     "output_type": "stream",
     "text": [
      "It is valid:  True\n",
      "{'data': 'My initial data', 'hash_value': '0006294f918dbc41ac70ec90aed278ae84094137bcbbb88119d6d4ae44474508', 'previous_block_hash': None, 'nonce': 8086, 'timestamp': 1517792367.490419}\n",
      "\n",
      "\n",
      "{'data': 'My data 2', 'hash_value': '000f2d2a7c7daae0d64e7d079e355152d13aca4ecdb4d9f80b2eb8d7f8fbe63d', 'previous_block_hash': '0006294f918dbc41ac70ec90aed278ae84094137bcbbb88119d6d4ae44474508', 'nonce': 111, 'timestamp': 1517792367.5576022}\n",
      "\n",
      "\n"
     ]
    }
   ],
   "source": [
    "chain = BlockChain('My initial data')\n",
    "chain.add_new_block('My data 2')\n",
    "print('It is valid: ', chain.is_chain_valid())\n",
    "chain.print_all_blocks()"
   ]
  },
  {
   "cell_type": "code",
   "execution_count": null,
   "metadata": {
    "collapsed": true
   },
   "outputs": [],
   "source": []
  }
 ],
 "metadata": {
  "anaconda-cloud": {},
  "kernelspec": {
   "display_name": "Python [Root]",
   "language": "python",
   "name": "Python [Root]"
  },
  "language_info": {
   "codemirror_mode": {
    "name": "ipython",
    "version": 3
   },
   "file_extension": ".py",
   "mimetype": "text/x-python",
   "name": "python",
   "nbconvert_exporter": "python",
   "pygments_lexer": "ipython3",
   "version": "3.5.2"
  }
 },
 "nbformat": 4,
 "nbformat_minor": 0
}

{
 "cells": [
  {
   "cell_type": "markdown",
   "metadata": {},
   "source": [
    "# Notebook about block Chain"
   ]
  },
  {
   "cell_type": "markdown",
   "metadata": {},
   "source": [
    "## This notebook contains information how to implement blockchain arquitectures"
   ]
  },
  {
   "cell_type": "markdown",
   "metadata": {},
   "source": [
    "### Implementing the class"
   ]
  },
  {
   "cell_type": "code",
   "execution_count": 154,
   "metadata": {
    "collapsed": false
   },
   "outputs": [],
   "source": [
    "import hashlib\n",
    "import time\n",
    "class Block():\n",
    "    # Data of the block\n",
    "    data = None\n",
    "    # Timestamp of creation of the block\n",
    "    timestamp = None\n",
    "    # Hash of the block\n",
    "    hash_value = None\n",
    "    # Previous block hash\n",
    "    previous_block_hash = None\n",
    "    # value to implement the hash\n",
    "    nonce = 0\n",
    "    \n",
    "    def __init__(self, data, previous_block_hash=None):\n",
    "        # initializes the block\n",
    "        self.timestamp = time.time()\n",
    "        self.data = data\n",
    "        self.previous_block_hash = previous_block_hash\n",
    "        self.hash_value = self.calculate_hash()\n",
    "        \n",
    "    def calculate_hash(self):\n",
    "        unhashed_value = str(self.data) + str(self.timestamp) + str(self.previous_block_hash) + str(self.nonce)\n",
    "        a = hashlib.sha256()\n",
    "        a.update(unhashed_value.encode('utf-8'))\n",
    "        return a.digest()\n",
    "    \n",
    "    def print_block(self):\n",
    "        print(self.__dict__)\n",
    "    \n",
    "    def mine_block(self, difficulty):\n",
    "        while self.hash_value[0:difficulty] != difficulty*[b'0']:\n",
    "            self.nonce = self.nonce + 1\n",
    "            self.hash_value = self.calculate_hash()\n",
    "            \n",
    "    \n",
    "class BlockChain():\n",
    "    \n",
    "    chain = []\n",
    "    \n",
    "    def __init__(self, data):\n",
    "        block = Block(data,0)\n",
    "        self.chain.append(block)\n",
    "    \n",
    "    def add_new_block(self, data):\n",
    "        previous_block_hash = self.chain[-1].hash_value if len(self.chain)>0 else None\n",
    "        block = Block(data, previous_block_hash)\n",
    "        self.chain.append(block)\n",
    "          \n",
    "    def get_last_block(self):\n",
    "        return self.chain[-1] if len(self.chain) > 0 else None\n",
    "    \n",
    "    def get_block(self, index):\n",
    "        return self.chain[index] if len(self.chain) > index and len(self.chain) > 0 else None\n",
    "    \n",
    "    def get_length(self):\n",
    "        return len(self.chain)\n",
    "    \n",
    "    def print_all_blocks(self):\n",
    "        for block in self.chain:\n",
    "            print(block.__dict__)\n",
    "            print('\\n')\n",
    "    \n",
    "    def is_chain_valid(self):\n",
    "        for i in range(self.get_length()):\n",
    "            if i > 0 and self.chain[i].previous_block_hash != self.chain[i-1].hash_value:\n",
    "                # Check if all the blocks that are not the first one have valid previous hashes\n",
    "                return False\n",
    "            if self.chain[i].calculate_hash() != self.chain[i].hash_value:\n",
    "                # Checks if any data was changed comparing the hash\n",
    "                return False\n",
    "        return True\n",
    "    \n",
    "        "
   ]
  },
  {
   "cell_type": "code",
   "execution_count": 205,
   "metadata": {
    "collapsed": false
   },
   "outputs": [
    {
     "data": {
      "text/plain": [
       "b'0000'"
      ]
     },
     "execution_count": 205,
     "metadata": {},
     "output_type": "execute_result"
    }
   ],
   "source": [
    "a = 4*b'0'\n",
    "a[0:5]"
   ]
  },
  {
   "cell_type": "code",
   "execution_count": 204,
   "metadata": {
    "collapsed": false
   },
   "outputs": [
    {
     "data": {
      "text/plain": [
       "True"
      ]
     },
     "execution_count": 204,
     "metadata": {},
     "output_type": "execute_result"
    }
   ],
   "source": [
    "b'0'==b'0'"
   ]
  },
  {
   "cell_type": "code",
   "execution_count": 196,
   "metadata": {
    "collapsed": false
   },
   "outputs": [
    {
     "ename": "LookupError",
     "evalue": "'hex' is not a text encoding; use codecs.encode() to handle arbitrary codecs",
     "output_type": "error",
     "traceback": [
      "\u001b[1;31m---------------------------------------------------------------------------\u001b[0m",
      "\u001b[1;31mLookupError\u001b[0m                               Traceback (most recent call last)",
      "\u001b[1;32m<ipython-input-196-a4f352af0f5c>\u001b[0m in \u001b[0;36m<module>\u001b[1;34m()\u001b[0m\n\u001b[1;32m----> 1\u001b[1;33m \u001b[1;34m'00'\u001b[0m\u001b[1;33m.\u001b[0m\u001b[0mencode\u001b[0m\u001b[1;33m(\u001b[0m\u001b[1;34m'hex'\u001b[0m\u001b[1;33m)\u001b[0m\u001b[1;33m\u001b[0m\u001b[0m\n\u001b[0m",
      "\u001b[1;31mLookupError\u001b[0m: 'hex' is not a text encoding; use codecs.encode() to handle arbitrary codecs"
     ]
    }
   ],
   "source": [
    "'00'.encode('')"
   ]
  },
  {
   "cell_type": "code",
   "execution_count": 199,
   "metadata": {
    "collapsed": false
   },
   "outputs": [
    {
     "data": {
      "text/plain": [
       "b\">wK\\xf8~ \\x91\\xd8\\xe5a\\xf2\\xc1$\\x08AN\\xd2\\xc0\\x8bv:\\x07\\r}H\\x8b\\xc0'\\xb8\\x19}\\xde\""
      ]
     },
     "execution_count": 199,
     "metadata": {},
     "output_type": "execute_result"
    }
   ],
   "source": [
    "chain.get_last_block().hash_value"
   ]
  },
  {
   "cell_type": "code",
   "execution_count": 172,
   "metadata": {
    "collapsed": false
   },
   "outputs": [
    {
     "name": "stdout",
     "output_type": "stream",
     "text": [
      "It is valid:  False\n",
      "{'previous_block_hash': 0, 'timestamp': 1517790690.9497461, 'data': 'My initial data', 'hash_value': b'\\xa6ZH\\xdb\\xcfT\\tu\\x89c\\x98\\x92\\x02\\xee,\\xe1e\\xe6\\x0cc8\\x97\\x01\\x99&\\xa4\\x9a\\xdcg\\xea\\xc0}'}\n",
      "\n",
      "\n",
      "{'previous_block_hash': b'\\xa6ZH\\xdb\\xcfT\\tu\\x89c\\x98\\x92\\x02\\xee,\\xe1e\\xe6\\x0cc8\\x97\\x01\\x99&\\xa4\\x9a\\xdcg\\xea\\xc0}', 'timestamp': 1517790690.9497461, 'data': 'My data 2', 'hash_value': b'\\xeaA2\\xf5\\nl\\xf5\\x82\\x14\\xb1\\x1b\\xdd\\x0e\\x1c(\\xd6\\x1c/M\\xd55\\xf8j\\x16\\x15Z\\x9a\\x8a\\x03\\xc3\\x13\\x0c'}\n",
      "\n",
      "\n",
      "{'previous_block_hash': 0, 'timestamp': 1517790851.7257245, 'data': 'My initial data', 'hash_value': b\"\\x97&\\xf4\\xf6\\\\\\x8bA\\x1b\\xb2N;4t4r\\xf7Y\\xe1\\x82\\x8a'\\xe9\\xb6pz~\\x17\\xab\\x16\\xbb\\x86\\x9e\"}\n",
      "\n",
      "\n",
      "{'previous_block_hash': b\"\\x97&\\xf4\\xf6\\\\\\x8bA\\x1b\\xb2N;4t4r\\xf7Y\\xe1\\x82\\x8a'\\xe9\\xb6pz~\\x17\\xab\\x16\\xbb\\x86\\x9e\", 'timestamp': 1517790851.7257245, 'data': 'My data 2', 'hash_value': b\">wK\\xf8~ \\x91\\xd8\\xe5a\\xf2\\xc1$\\x08AN\\xd2\\xc0\\x8bv:\\x07\\r}H\\x8b\\xc0'\\xb8\\x19}\\xde\"}\n",
      "\n",
      "\n"
     ]
    }
   ],
   "source": [
    "chain = BlockChain('My initial data')\n",
    "chain.add_new_block('My data 2')\n",
    "print('It is valid: ', chain.is_chain_valid())\n",
    "chain.print_all_blocks()"
   ]
  },
  {
   "cell_type": "code",
   "execution_count": null,
   "metadata": {
    "collapsed": true
   },
   "outputs": [],
   "source": []
  }
 ],
 "metadata": {
  "anaconda-cloud": {},
  "kernelspec": {
   "display_name": "Python [Root]",
   "language": "python",
   "name": "Python [Root]"
  },
  "language_info": {
   "codemirror_mode": {
    "name": "ipython",
    "version": 3
   },
   "file_extension": ".py",
   "mimetype": "text/x-python",
   "name": "python",
   "nbconvert_exporter": "python",
   "pygments_lexer": "ipython3",
   "version": "3.5.2"
  }
 },
 "nbformat": 4,
 "nbformat_minor": 0
}

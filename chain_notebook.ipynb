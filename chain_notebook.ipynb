{
 "cells": [
  {
   "cell_type": "markdown",
   "metadata": {},
   "source": [
    "# Notebook about block Chain"
   ]
  },
  {
   "cell_type": "markdown",
   "metadata": {},
   "source": [
    "## This notebook contains information how to implement blockchain arquitectures"
   ]
  },
  {
   "cell_type": "markdown",
   "metadata": {},
   "source": [
    "### Implementing the class"
   ]
  },
  {
   "cell_type": "code",
   "execution_count": 143,
   "metadata": {
    "collapsed": false
   },
   "outputs": [],
   "source": [
    "import hashlib\n",
    "import time\n",
    "class Block():\n",
    "    # Data of the block\n",
    "    data = None\n",
    "    # Timestamp of creation of the block\n",
    "    timestamp = None\n",
    "    # Hash of the block\n",
    "    hash_value = None\n",
    "    # Previous block hash\n",
    "    previous_block_hash = None\n",
    "    \n",
    "    def __init__(self, data, previous_block_hash=None):\n",
    "        # initializes the block\n",
    "        self.timestamp = time.time()\n",
    "        self.data = data\n",
    "        self.previous_block_hash = previous_block_hash\n",
    "        self.hash_value = self.calculate_hash()\n",
    "        \n",
    "    def calculate_hash(self):\n",
    "        unhashed_value = str(self.data) + str(self.timestamp) + str(self.previous_block_hash)\n",
    "        a = hashlib.sha256()\n",
    "        a.update(unhashed_value.encode())\n",
    "        return a.digest()\n",
    "    \n",
    "    def print_block(self):\n",
    "        print(self.__dict__)\n",
    "    \n",
    "class BlockChain():\n",
    "    \n",
    "    chain = []\n",
    "    \n",
    "    def __init__(self, data):\n",
    "        block = Block(data,0)\n",
    "        self.chain.append(block)\n",
    "    \n",
    "    def add_new_block(self, data):\n",
    "        previous_block_hash = self.chain[-1].hash_value if len(self.chain)>0 else None\n",
    "        block = Block(data, previous_block_hash)\n",
    "        self.chain.append(block)\n",
    "          \n",
    "    def get_last_block(self):\n",
    "        return self.chain[-1] if len(self.chain) > 0 else None\n",
    "    \n",
    "    def get_block(self, index):\n",
    "        return self.chain[index] if len(self.chain) > index and len(self.chain) > 0 else None\n",
    "    \n",
    "    def get_length(self):\n",
    "        return len(self.chain)\n",
    "    \n",
    "    def print_all_blocks(self):\n",
    "        for block in self.chain:\n",
    "            print(block.__dict__)\n",
    "            print('\\n')\n",
    "    \n",
    "    def is_chain_valid(self):\n",
    "        for i in range(self.get_length()):\n",
    "            if i > 0 and self.chain[i].previous_block_hash != self.chain[i-1].hash_value:\n",
    "                # Check if all the blocks that are not the first one have valid previous hashes\n",
    "                return False\n",
    "            if self.chain[i].calculate_hash() != self.chain[i].hash_value:\n",
    "                # Checks if any data was changed comparing the hash\n",
    "                return False\n",
    "        return True\n",
    "    \n",
    "        "
   ]
  },
  {
   "cell_type": "code",
   "execution_count": 144,
   "metadata": {
    "collapsed": false
   },
   "outputs": [
    {
     "name": "stdout",
     "output_type": "stream",
     "text": [
      "It is valid:  True\n",
      "{'previous_block_hash': 0, 'timestamp': 1517787388.806752, 'data': 'My initial data', 'hash_value': b'N\\xa94\\xe9\\xdcG\\xd0\\xeb\\xa6E\\xb0Gf!=\\xb7\\xf8y\\xe2\\xff\\xa0\\xdd#\\xda\\x12\\xda\\x1dm\\x14\\xf5!U'}\n",
      "\n",
      "\n",
      "{'previous_block_hash': b'N\\xa94\\xe9\\xdcG\\xd0\\xeb\\xa6E\\xb0Gf!=\\xb7\\xf8y\\xe2\\xff\\xa0\\xdd#\\xda\\x12\\xda\\x1dm\\x14\\xf5!U', 'timestamp': 1517787388.806752, 'data': 'My data 2', 'hash_value': b'&u\\xf0\"\\xa0hp&@\\x9b\\xe4\\xbaS\\xf4\\x0f\\xa48\\xd3\\xff\\x12\\xc4\\xca\\xbd\\xb2\\xc9\\xa2\\x1b>\\x01\\x90\\xb8A'}\n",
      "\n",
      "\n"
     ]
    }
   ],
   "source": [
    "chain = BlockChain('My initial data')\n",
    "chain.add_new_block('My data 2')\n",
    "print('It is valid: ', chain.is_chain_valid())\n",
    "chain.print_all_blocks()"
   ]
  }
 ],
 "metadata": {
  "anaconda-cloud": {},
  "kernelspec": {
   "display_name": "Python [Root]",
   "language": "python",
   "name": "Python [Root]"
  },
  "language_info": {
   "codemirror_mode": {
    "name": "ipython",
    "version": 3
   },
   "file_extension": ".py",
   "mimetype": "text/x-python",
   "name": "python",
   "nbconvert_exporter": "python",
   "pygments_lexer": "ipython3",
   "version": "3.5.2"
  }
 },
 "nbformat": 4,
 "nbformat_minor": 0
}
